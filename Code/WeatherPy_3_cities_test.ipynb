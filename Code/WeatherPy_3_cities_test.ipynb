{
 "cells": [
  {
   "cell_type": "markdown",
   "metadata": {},
   "source": [
    "# WeatherPy\n",
    "----"
   ]
  },
  {
   "cell_type": "code",
   "execution_count": 1,
   "metadata": {
    "scrolled": true
   },
   "outputs": [],
   "source": [
    "# Dependencies and Setup\n",
    "import matplotlib.pyplot as plt\n",
    "import pandas as pd\n",
    "import numpy as np\n",
    "import requests\n",
    "import time\n",
    "from scipy.stats import linregress\n",
    "\n",
    "# Import API key\n",
    "from api_keys import weather_api_key\n",
    "\n",
    "# Output File (CSV)\n",
    "output_data_file = \"output_data/cities.csv\"\n",
    "\n",
    "# Range of latitudes and longitudes\n",
    "lat_range = (-90, 90)\n",
    "lng_range = (-180, 180)"
   ]
  },
  {
   "cell_type": "code",
   "execution_count": 2,
   "metadata": {},
   "outputs": [],
   "source": [
    "# Incorporated citipy to determine city based on latitude and longitude\n",
    "# !pip install citipy\n",
    "from citipy import citipy"
   ]
  },
  {
   "cell_type": "markdown",
   "metadata": {},
   "source": [
    "### Perform API Calls\n",
    "* Perform a weather check on each city using a series of successive API calls.\n",
    "* Include a print log of each city as it'sbeing processed (with the city number and city name).\n"
   ]
  },
  {
   "cell_type": "code",
   "execution_count": 3,
   "metadata": {},
   "outputs": [],
   "source": [
    "# Save config information\n",
    "url = \"http://api.openweathermap.org/data/2.5/weather?\"\n",
    "units = \"metric\"\n",
    "\n",
    "# Build partial query URL\n",
    "query_url = f\"{url}appid={weather_api_key}&units={units}&q=\""
   ]
  },
  {
   "cell_type": "code",
   "execution_count": 4,
   "metadata": {},
   "outputs": [
    {
     "output_type": "stream",
     "name": "stdout",
     "text": "Beginning Data Retrieval \n-----------------------------\n\nProcessing Record 1 of Set 1 | Paris\nProcessing Record 2 of Set 1 | New York\nProcessing Record 3 of Set 1 | Shanghai\n"
    }
   ],
   "source": [
    "# Test API request for 3 cities\n",
    "\n",
    "test_cities = [\"Paris\", \"New York\", \"Shanghai\"]\n",
    "\n",
    "# set up lists to hold response info\n",
    "test_cloudiness = []\n",
    "test_country = []\n",
    "test_date = []\n",
    "test_humidity = []\n",
    "test_lat = []\n",
    "test_lon = []\n",
    "test_max_temp = []\n",
    "test_wind_speed = []\n",
    "\n",
    "# Loop through the list of test_cities and perform a request for data on each\n",
    "print(f\"Beginning Data Retrieval \\n-----------------------------\\n\")\n",
    "\n",
    "test_city_number = 0\n",
    "# make API calls in multiple sets, API call limits = 20\n",
    "test_API_call_set = 1\n",
    "\n",
    "\n",
    "for test_city in test_cities:\n",
    "    response = requests.get(query_url + test_city).json()\n",
    "\n",
    "    try:\n",
    "        test_cloudiness.append(response['clouds']['all'])\n",
    "        test_country.append(response['sys']['country'])\n",
    "        test_date.append(response['dt'])\n",
    "        test_humidity.append(response['main']['humidity'])\n",
    "        test_lat.append(response['coord']['lat'])\n",
    "        test_lon.append(response['coord']['lon'])\n",
    "        test_max_temp.append(response['main']['temp_max'])\n",
    "        test_wind_speed.append(response['wind']['speed'])\n",
    "        test_city_number +=1     \n",
    "        print(f\"Processing Record {test_city_number} of Set {test_API_call_set} | {response['name']}\")\n",
    "\n",
    "    except (KeyError, IndexError):\n",
    "        print(f\"{test_city} not found - skipping...\")\n",
    "\n",
    "    # If statement to handle API call limits\n",
    "    if test_API_call_set == 21:\n",
    "        test_API_call_set += 1\n",
    "        test_city_number = 1"
   ]
  },
  {
   "cell_type": "markdown",
   "metadata": {},
   "source": [
    "### Convert Raw Data to DataFrame\n",
    "* Export the city data into a .csv.\n",
    "* Display the DataFrame"
   ]
  },
  {
   "cell_type": "code",
   "execution_count": 6,
   "metadata": {},
   "outputs": [
    {
     "output_type": "execute_result",
     "data": {
      "text/plain": "       City  Cloudiness Country        Date  Humidity    Lat     Lng  \\\n0     Paris          20      FR  1587240829        77  48.85    2.35   \n1  New York          90      US  1587240783        70  40.71  -74.01   \n2  Shanghai          90      CN  1587240683        87  31.22  121.46   \n\n   Max Temp  Wind Speed  \n0     17.22         2.6  \n1      8.33         2.6  \n2     14.44         4.0  ",
      "text/html": "<div>\n<style scoped>\n    .dataframe tbody tr th:only-of-type {\n        vertical-align: middle;\n    }\n\n    .dataframe tbody tr th {\n        vertical-align: top;\n    }\n\n    .dataframe thead th {\n        text-align: right;\n    }\n</style>\n<table border=\"1\" class=\"dataframe\">\n  <thead>\n    <tr style=\"text-align: right;\">\n      <th></th>\n      <th>City</th>\n      <th>Cloudiness</th>\n      <th>Country</th>\n      <th>Date</th>\n      <th>Humidity</th>\n      <th>Lat</th>\n      <th>Lng</th>\n      <th>Max Temp</th>\n      <th>Wind Speed</th>\n    </tr>\n  </thead>\n  <tbody>\n    <tr>\n      <td>0</td>\n      <td>Paris</td>\n      <td>20</td>\n      <td>FR</td>\n      <td>1587240829</td>\n      <td>77</td>\n      <td>48.85</td>\n      <td>2.35</td>\n      <td>17.22</td>\n      <td>2.6</td>\n    </tr>\n    <tr>\n      <td>1</td>\n      <td>New York</td>\n      <td>90</td>\n      <td>US</td>\n      <td>1587240783</td>\n      <td>70</td>\n      <td>40.71</td>\n      <td>-74.01</td>\n      <td>8.33</td>\n      <td>2.6</td>\n    </tr>\n    <tr>\n      <td>2</td>\n      <td>Shanghai</td>\n      <td>90</td>\n      <td>CN</td>\n      <td>1587240683</td>\n      <td>87</td>\n      <td>31.22</td>\n      <td>121.46</td>\n      <td>14.44</td>\n      <td>4.0</td>\n    </tr>\n  </tbody>\n</table>\n</div>"
     },
     "metadata": {},
     "execution_count": 6
    }
   ],
   "source": [
    "test_weather_dict = {\n",
    "    \"City\": test_cities,\n",
    "    \"Cloudiness\": test_cloudiness,\n",
    "    \"Country\": test_country,\n",
    "    \"Date\": test_date,\n",
    "    \"Humidity\": test_humidity,\n",
    "    \"Lat\": test_lat,\n",
    "    \"Lng\": test_lon,\n",
    "    \"Max Temp\": test_max_temp,\n",
    "    \"Wind Speed\": test_wind_speed\n",
    "}\n",
    "test_weather_data = pd.DataFrame(test_weather_dict)\n",
    "test_weather_data"
   ]
  },
  {
   "cell_type": "code",
   "execution_count": null,
   "metadata": {},
   "outputs": [],
   "source": []
  }
 ],
 "metadata": {
  "anaconda-cloud": {},
  "kernel_info": {
   "name": "python3"
  },
  "kernelspec": {
   "display_name": "Python 3",
   "language": "python",
   "name": "python3"
  },
  "language_info": {
   "codemirror_mode": {
    "name": "ipython",
    "version": 3
   },
   "file_extension": ".py",
   "mimetype": "text/x-python",
   "name": "python",
   "nbconvert_exporter": "python",
   "pygments_lexer": "ipython3",
   "version": "3.7.4-final"
  },
  "latex_envs": {
   "LaTeX_envs_menu_present": true,
   "autoclose": false,
   "autocomplete": true,
   "bibliofile": "biblio.bib",
   "cite_by": "apalike",
   "current_citInitial": 1,
   "eqLabelWithNumbers": true,
   "eqNumInitial": 1,
   "hotkeys": {
    "equation": "Ctrl-E",
    "itemize": "Ctrl-I"
   },
   "labels_anchors": false,
   "latex_user_defs": false,
   "report_style_numbering": false,
   "user_envs_cfg": false
  },
  "nteract": {
   "version": "0.12.3"
  }
 },
 "nbformat": 4,
 "nbformat_minor": 2
}